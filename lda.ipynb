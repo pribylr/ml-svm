{
 "cells": [
  {
   "cell_type": "code",
   "execution_count": 1,
   "id": "b9209ef0-7365-4ffa-8cf5-30d833280f01",
   "metadata": {},
   "outputs": [],
   "source": [
    "from cuml.svm import SVC, LinearSVC\n",
    "import cudf\n",
    "#from cuml.model_selection import train_test_split\n",
    "import cupy as cp\n",
    "from cuml.metrics import accuracy_score\n",
    "from cuml.pipeline import make_pipeline\n",
    "from cuml.decomposition import PCA\n",
    "\n",
    "from sklearn.datasets import fetch_openml\n",
    "import pandas as pd\n",
    "from sklearn.model_selection import GridSearchCV, train_test_split\n",
    "#from sklearn.svm import SVC\n",
    "#from sklearn.metrics import accuracy_score\n",
    "import numpy as np\n",
    "from itertools import product\n",
    "#from sklearn.decomposition import PCA\n",
    "from sklearn.discriminant_analysis import LinearDiscriminantAnalysis as LDA\n",
    "import matplotlib.pyplot as plt\n",
    "from sklearn.pipeline import Pipeline\n",
    "from matplotlib.lines import Line2D\n",
    "from sklearn.metrics import confusion_matrix\n",
    "import seaborn as sns"
   ]
  },
  {
   "cell_type": "code",
   "execution_count": 2,
   "id": "8f98a636-b216-429d-9825-8cc63d9b2b88",
   "metadata": {},
   "outputs": [],
   "source": [
    "data = fetch_openml('mnist_784', version=1)\n",
    "\n",
    "Xdata, ydata = data.data, data.target\n",
    "Xdata = Xdata.astype(np.float32)\n",
    "ydata = ydata.astype(np.float32)\n",
    "\n",
    "# Xdata = Xdata[:200]\n",
    "# ydata = ydata[:200]\n",
    "\n",
    "Xtrain, Xtemp, ytrain, ytemp = train_test_split(Xdata, ydata, test_size=0.3, random_state=42, stratify=ydata)\n",
    "Xval, Xtest, yval, ytest = train_test_split(Xtemp, ytemp, test_size=0.4, random_state=42, stratify=ytemp)\n",
    "\n",
    "Xtrain_cp = cp.asarray(Xtrain)\n",
    "ytrain_cp = cp.asarray(ytrain)\n",
    "Xval_cp = cp.asarray(Xval)\n",
    "yval_cp = cp.asarray(yval)"
   ]
  },
  {
   "cell_type": "code",
   "execution_count": 3,
   "id": "25cfb55e-8a53-49ec-aa9c-5a285aa13fc2",
   "metadata": {},
   "outputs": [],
   "source": [
    "# hyperparameters\n",
    "\n",
    "grid_params = {\n",
    "    'C': [0.1, 1, 10],\n",
    "    'gamma': ['scale', 'auto', 0.01],\n",
    "    'kernel': ['rbf', 'linear', 'poly', 'sigmoid']\n",
    "}"
   ]
  },
  {
   "cell_type": "code",
   "execution_count": 4,
   "id": "b926be28-ed40-4286-9422-a06583ca20d4",
   "metadata": {},
   "outputs": [],
   "source": [
    "lda = LDA(n_components=len(ydata.unique())-1)  # Reduce to 9 components (since we have 10 classes)\n",
    "Xtrain_lda = lda.fit_transform(Xtrain, ytrain)\n",
    "Xval_lda = lda.transform(Xval)\n",
    "Xtest_lda = lda.transform(Xtest)"
   ]
  },
  {
   "cell_type": "code",
   "execution_count": 5,
   "id": "7c7c9a69-642c-4fb7-98a7-f5bc168ad4c0",
   "metadata": {},
   "outputs": [],
   "source": [
    "Xtrain_lda_cp = cp.asarray(Xtrain_lda)\n",
    "Xval_lda_cp = cp.asarray(Xval_lda)\n",
    "Xtest_lda_cp = cp.asarray(Xtest_lda)"
   ]
  },
  {
   "cell_type": "code",
   "execution_count": 6,
   "id": "b1c1d087-6180-4a1b-96e1-7c938a475fd4",
   "metadata": {},
   "outputs": [],
   "source": [
    "best_model_lda = None\n",
    "best_params_lda = None\n",
    "best_val_acc_lda = 0\n",
    "val_accs_lda = []"
   ]
  },
  {
   "cell_type": "code",
   "execution_count": 7,
   "id": "09a89e87-cf8c-424c-b0ca-8aea3ef83640",
   "metadata": {},
   "outputs": [
    {
     "name": "stdout",
     "output_type": "stream",
     "text": [
      "Best hyperparameters: {'C': 1, 'gamma': 'auto', 'kernel': 'rbf'}\n",
      "HIghest validation accuracy: 0.925000011920929\n"
     ]
    }
   ],
   "source": [
    "param_combinations_lda = product(grid_params['C'], grid_params['gamma'], grid_params['kernel'])\n",
    "\n",
    "for C, gamma, kernel in param_combinations_lda:\n",
    "    if kernel == 'linear':\n",
    "        svm = SVC(C=C)\n",
    "    else:\n",
    "        svm = SVC(C=C, gamma=gamma, kernel=kernel)\n",
    "    \n",
    "    svm.fit(Xtrain_lda_cp, ytrain_cp)\n",
    "    pred = svm.predict(Xval_lda_cp)\n",
    "    val_acc = accuracy_score(yval, pred)\n",
    "    val_accs_lda.append(val_acc)\n",
    "    #print(f\"Params: C={C}, gamma={gamma}, kernel={kernel} | Evaluation Accuracy: {val_acc:.4f}\")\n",
    "    \n",
    "    if val_acc > best_val_acc_lda:\n",
    "        best_val_acc_lda = val_acc\n",
    "        best_model_lda = svm\n",
    "        best_params_lda = {'C': C, 'gamma': gamma, 'kernel': kernel}\n",
    "\n",
    "print(\"Best hyperparameters:\", best_params_lda)\n",
    "print(\"HIghest validation accuracy:\", best_val_acc_lda)"
   ]
  },
  {
   "cell_type": "code",
   "execution_count": null,
   "id": "677f7f59-a169-47e1-a198-fc847d7895eb",
   "metadata": {},
   "outputs": [],
   "source": []
  },
  {
   "cell_type": "code",
   "execution_count": null,
   "id": "eb0c615d-6da4-4d9b-ba1f-d10945cb37ae",
   "metadata": {},
   "outputs": [],
   "source": []
  }
 ],
 "metadata": {
  "kernelspec": {
   "display_name": "python (venv-mlsvm)",
   "language": "python",
   "name": "venv-mlsvm"
  },
  "language_info": {
   "codemirror_mode": {
    "name": "ipython",
    "version": 3
   },
   "file_extension": ".py",
   "mimetype": "text/x-python",
   "name": "python",
   "nbconvert_exporter": "python",
   "pygments_lexer": "ipython3",
   "version": "3.12.7"
  }
 },
 "nbformat": 4,
 "nbformat_minor": 5
}
