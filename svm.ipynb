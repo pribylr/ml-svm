{
 "cells": [
  {
   "cell_type": "code",
   "execution_count": 1,
   "id": "e1dbbdca-35ad-4f58-a6fc-13abc1dfba2f",
   "metadata": {},
   "outputs": [],
   "source": [
    "from cuml.svm import SVC, LinearSVC\n",
    "import cudf\n",
    "#from cuml.model_selection import train_test_split\n",
    "import cupy as cp\n",
    "from cuml.metrics import accuracy_score\n",
    "from cuml.pipeline import make_pipeline\n",
    "from cuml.decomposition import PCA\n",
    "\n",
    "from sklearn.datasets import fetch_openml\n",
    "import pandas as pd\n",
    "from sklearn.model_selection import GridSearchCV, train_test_split\n",
    "#from sklearn.svm import SVC\n",
    "#from sklearn.metrics import accuracy_score\n",
    "import numpy as np\n",
    "from itertools import product\n",
    "#from sklearn.decomposition import PCA\n",
    "from sklearn.discriminant_analysis import LinearDiscriminantAnalysis as LDA\n",
    "import matplotlib.pyplot as plt\n",
    "from sklearn.pipeline import Pipeline\n",
    "from matplotlib.lines import Line2D\n",
    "from sklearn.metrics import confusion_matrix\n",
    "import seaborn as sns"
   ]
  },
  {
   "cell_type": "code",
   "execution_count": 2,
   "id": "75767cd5-b032-410b-a36c-f95cb514947d",
   "metadata": {},
   "outputs": [],
   "source": [
    "data = fetch_openml('mnist_784', version=1)"
   ]
  },
  {
   "cell_type": "code",
   "execution_count": 3,
   "id": "0c540630-ec7e-42fe-a26d-b2685f6ae0ea",
   "metadata": {},
   "outputs": [],
   "source": [
    "Xdata, ydata = data.data, data.target\n",
    "Xdata = Xdata.astype(np.float32)\n",
    "ydata = ydata.astype(np.float32)"
   ]
  },
  {
   "cell_type": "code",
   "execution_count": 4,
   "id": "8401bafc-1cc6-41d4-bfa5-b207fcff1568",
   "metadata": {},
   "outputs": [],
   "source": [
    "Xdata = Xdata[:200]\n",
    "ydata = ydata[:200]"
   ]
  },
  {
   "cell_type": "code",
   "execution_count": 5,
   "id": "14b91890-2abd-4bb5-bd00-eed08acb2f6f",
   "metadata": {},
   "outputs": [],
   "source": [
    "Xtrain, Xtemp, ytrain, ytemp = train_test_split(Xdata, ydata, test_size=0.3, random_state=42, stratify=ydata)\n",
    "Xval, Xtest, yval, ytest = train_test_split(Xtemp, ytemp, test_size=0.4, random_state=42, stratify=ytemp)"
   ]
  },
  {
   "cell_type": "code",
   "execution_count": 6,
   "id": "58cf591d-a1dc-4789-845f-0086955dfe6f",
   "metadata": {},
   "outputs": [],
   "source": [
    "Xtrain_cp = cp.asarray(Xtrain)\n",
    "ytrain_cp = cp.asarray(ytrain)\n",
    "Xval_cp = cp.asarray(Xval)\n",
    "yval_cp = cp.asarray(yval)"
   ]
  },
  {
   "cell_type": "code",
   "execution_count": 7,
   "id": "99a2c5e5-961a-4b0f-bf23-98d8695c4061",
   "metadata": {},
   "outputs": [],
   "source": [
    "# hyperparameters\n",
    "\n",
    "grid_params = {\n",
    "    'C': [0.1, 1, 10],\n",
    "    'gamma': ['scale', 'auto', 0.01],\n",
    "    'kernel': ['rbf', 'linear', 'poly', 'sigmoid']\n",
    "}"
   ]
  },
  {
   "cell_type": "markdown",
   "id": "d97f9943-a567-4077-bccc-324a519826d6",
   "metadata": {},
   "source": [
    "# Model Training"
   ]
  },
  {
   "cell_type": "code",
   "execution_count": 8,
   "id": "3f8f064b-1e32-455c-9778-cae406f03097",
   "metadata": {},
   "outputs": [],
   "source": [
    "best_model = None\n",
    "best_params = None\n",
    "best_val_acc = 0\n",
    "val_accs = []"
   ]
  },
  {
   "cell_type": "code",
   "execution_count": 9,
   "id": "a4a4c80f-76e9-4d3d-a8f2-eceaf195e2e4",
   "metadata": {},
   "outputs": [
    {
     "name": "stdout",
     "output_type": "stream",
     "text": [
      "Best hyperparameters: {'C': 10, 'gamma': 'scale', 'kernel': 'rbf'}\n",
      "HIghest validation accuracy: 0.7777777910232544\n"
     ]
    }
   ],
   "source": [
    "param_combinations = product(grid_params['C'], grid_params['gamma'], grid_params['kernel'])\n",
    "\n",
    "for C, gamma, kernel in param_combinations:\n",
    "    if kernel == 'linear':\n",
    "        svm = LinearSVC(C=C, probability=False)\n",
    "    else:\n",
    "        svm = SVC(C=C, gamma=gamma, kernel=kernel, probability=False)\n",
    "\n",
    "    svm.fit(Xtrain_cp, ytrain_cp)\n",
    "    pred = svm.predict(Xval_cp)\n",
    "    val_acc = accuracy_score(yval_cp, pred)\n",
    "    val_accs.append(val_acc)\n",
    "    # print(f\"Params: C={C}, gamma={gamma}, kernel={kernel} | Evaluation Accuracy: {val_acc:.4f}\")\n",
    "    if val_acc > best_val_acc:\n",
    "        best_val_acc = val_acc\n",
    "        best_model = svm\n",
    "        best_params = {'C': C, 'gamma': gamma, 'kernel': kernel}\n",
    "\n",
    "print(\"Best hyperparameters:\", best_params)\n",
    "print(\"HIghest validation accuracy:\", best_val_acc)"
   ]
  },
  {
   "cell_type": "code",
   "execution_count": 22,
   "id": "3887eefb-efab-49c2-9082-2edd240195f8",
   "metadata": {},
   "outputs": [],
   "source": [
    "# test_pred = best_model.predict(Xtest)\n",
    "# test_acc = accuracy_score(ytest, test_pred)\n",
    "# print(f\"Final Test Accuracy: {test_acc:.4f}\")\n"
   ]
  },
  {
   "cell_type": "markdown",
   "id": "f5fff187-7f54-4b11-980b-f3bd00d8025d",
   "metadata": {},
   "source": [
    "# LDA + SVM"
   ]
  },
  {
   "cell_type": "code",
   "execution_count": 16,
   "id": "425e6f55-12c0-47ec-837d-49c9aa3d2823",
   "metadata": {},
   "outputs": [],
   "source": [
    "lda = LDA(n_components=len(ydata.unique())-1)  # Reduce to 9 components (since we have 10 classes)\n",
    "Xtrain_lda = lda.fit_transform(Xtrain, ytrain)\n",
    "Xval_lda = lda.transform(Xval)\n",
    "Xtest_lda = lda.transform(Xtest)"
   ]
  },
  {
   "cell_type": "code",
   "execution_count": 17,
   "id": "e331eacc-4d73-43c8-bcc9-52c7383f432b",
   "metadata": {},
   "outputs": [],
   "source": [
    "Xtrain_lda_cp = cp.asarray(Xtrain_lda)\n",
    "Xval_lda_cp = cp.asarray(Xval_lda)\n",
    "Xtest_lda_cp = cp.asarray(Xtest_lda)"
   ]
  },
  {
   "cell_type": "code",
   "execution_count": 18,
   "id": "1c3dea5c-803e-4eb7-ad29-0ff0d65d1863",
   "metadata": {},
   "outputs": [],
   "source": [
    "best_model_lda = None\n",
    "best_params_lda = None\n",
    "best_val_acc_lda = 0\n",
    "val_accs_lda = []"
   ]
  },
  {
   "cell_type": "code",
   "execution_count": 19,
   "id": "1cf80789-016b-4bd0-b764-60a418ad0b2c",
   "metadata": {},
   "outputs": [
    {
     "name": "stdout",
     "output_type": "stream",
     "text": [
      "Best hyperparameters: {'C': 1, 'gamma': 0.01, 'kernel': 'rbf'}\n",
      "HIghest validation accuracy: 0.6944444179534912\n"
     ]
    }
   ],
   "source": [
    "param_combinations_lda = product(grid_params['C'], grid_params['gamma'], grid_params['kernel'])\n",
    "\n",
    "for C, gamma, kernel in param_combinations_lda:\n",
    "    if kernel == 'linear':\n",
    "        svm = SVC(C=C)\n",
    "    else:\n",
    "        svm = SVC(C=C, gamma=gamma, kernel=kernel)\n",
    "    \n",
    "    svm.fit(Xtrain_lda_cp, ytrain_cp)\n",
    "    pred = svm.predict(Xval_lda_cp)\n",
    "    val_acc = accuracy_score(yval, pred)\n",
    "    val_accs_lda.append(val_acc)\n",
    "    #print(f\"Params: C={C}, gamma={gamma}, kernel={kernel} | Evaluation Accuracy: {val_acc:.4f}\")\n",
    "    \n",
    "    if val_acc > best_val_acc_lda:\n",
    "        best_val_acc_lda = val_acc\n",
    "        best_model_lda = svm\n",
    "        best_params_lda = {'C': C, 'gamma': gamma, 'kernel': kernel}\n",
    "\n",
    "print(\"Best hyperparameters:\", best_params_lda)\n",
    "print(\"HIghest validation accuracy:\", best_val_acc_lda)"
   ]
  },
  {
   "cell_type": "code",
   "execution_count": null,
   "id": "f2bfb4a8-227c-412a-b945-dddc42bd5844",
   "metadata": {},
   "outputs": [],
   "source": []
  }
 ],
 "metadata": {
  "kernelspec": {
   "display_name": "python (venv-mlsvm)",
   "language": "python",
   "name": "venv-mlsvm"
  },
  "language_info": {
   "codemirror_mode": {
    "name": "ipython",
    "version": 3
   },
   "file_extension": ".py",
   "mimetype": "text/x-python",
   "name": "python",
   "nbconvert_exporter": "python",
   "pygments_lexer": "ipython3",
   "version": "3.12.7"
  }
 },
 "nbformat": 4,
 "nbformat_minor": 5
}
